{
  "nbformat": 4,
  "nbformat_minor": 0,
  "metadata": {
    "colab": {
      "name": "Image Classification.ipynb",
      "provenance": [],
      "collapsed_sections": [],
      "authorship_tag": "ABX9TyPveY9l32Q1houyu+qlUPc/",
      "include_colab_link": true
    },
    "kernelspec": {
      "name": "python3",
      "display_name": "Python 3"
    },
    "language_info": {
      "name": "python"
    }
  },
  "cells": [
    {
      "cell_type": "markdown",
      "metadata": {
        "id": "view-in-github",
        "colab_type": "text"
      },
      "source": [
        "<a href=\"https://colab.research.google.com/github/kavya-karthik/ML-MINOR-APRIL/blob/main/Image_Classification.ipynb\" target=\"_parent\"><img src=\"https://colab.research.google.com/assets/colab-badge.svg\" alt=\"Open In Colab\"/></a>"
      ]
    },
    {
      "cell_type": "code",
      "metadata": {
        "colab": {
          "base_uri": "https://localhost:8080/"
        },
        "id": "mweK7BNZwtSS",
        "outputId": "2e1ffe84-9e59-4df1-e680-b020ba8c8fba"
      },
      "source": [
        "!pip install ipython-autotime\n",
        "%load_ext autotime"
      ],
      "execution_count": null,
      "outputs": [
        {
          "output_type": "stream",
          "text": [
            "Collecting ipython-autotime\n",
            "  Downloading https://files.pythonhosted.org/packages/b4/c9/b413a24f759641bc27ef98c144b590023c8038dfb8a3f09e713e9dff12c1/ipython_autotime-0.3.1-py2.py3-none-any.whl\n",
            "Requirement already satisfied: ipython in /usr/local/lib/python3.7/dist-packages (from ipython-autotime) (5.5.0)\n",
            "Requirement already satisfied: pickleshare in /usr/local/lib/python3.7/dist-packages (from ipython->ipython-autotime) (0.7.5)\n",
            "Requirement already satisfied: setuptools>=18.5 in /usr/local/lib/python3.7/dist-packages (from ipython->ipython-autotime) (56.1.0)\n",
            "Requirement already satisfied: simplegeneric>0.8 in /usr/local/lib/python3.7/dist-packages (from ipython->ipython-autotime) (0.8.1)\n",
            "Requirement already satisfied: prompt-toolkit<2.0.0,>=1.0.4 in /usr/local/lib/python3.7/dist-packages (from ipython->ipython-autotime) (1.0.18)\n",
            "Requirement already satisfied: pygments in /usr/local/lib/python3.7/dist-packages (from ipython->ipython-autotime) (2.6.1)\n",
            "Requirement already satisfied: decorator in /usr/local/lib/python3.7/dist-packages (from ipython->ipython-autotime) (4.4.2)\n",
            "Requirement already satisfied: traitlets>=4.2 in /usr/local/lib/python3.7/dist-packages (from ipython->ipython-autotime) (5.0.5)\n",
            "Requirement already satisfied: pexpect; sys_platform != \"win32\" in /usr/local/lib/python3.7/dist-packages (from ipython->ipython-autotime) (4.8.0)\n",
            "Requirement already satisfied: six>=1.9.0 in /usr/local/lib/python3.7/dist-packages (from prompt-toolkit<2.0.0,>=1.0.4->ipython->ipython-autotime) (1.15.0)\n",
            "Requirement already satisfied: wcwidth in /usr/local/lib/python3.7/dist-packages (from prompt-toolkit<2.0.0,>=1.0.4->ipython->ipython-autotime) (0.2.5)\n",
            "Requirement already satisfied: ipython-genutils in /usr/local/lib/python3.7/dist-packages (from traitlets>=4.2->ipython->ipython-autotime) (0.2.0)\n",
            "Requirement already satisfied: ptyprocess>=0.5 in /usr/local/lib/python3.7/dist-packages (from pexpect; sys_platform != \"win32\"->ipython->ipython-autotime) (0.7.0)\n",
            "Installing collected packages: ipython-autotime\n",
            "Successfully installed ipython-autotime-0.3.1\n",
            "time: 204 µs (started: 2021-05-20 07:53:11 +00:00)\n"
          ],
          "name": "stdout"
        }
      ]
    },
    {
      "cell_type": "code",
      "metadata": {
        "colab": {
          "base_uri": "https://localhost:8080/"
        },
        "id": "eeKa2Swytgki",
        "outputId": "09841372-915d-4533-864f-5f0a7dc0c32b"
      },
      "source": [
        "!pip install bing-image-downloader"
      ],
      "execution_count": null,
      "outputs": [
        {
          "output_type": "stream",
          "text": [
            "Collecting bing-image-downloader\n",
            "  Downloading https://files.pythonhosted.org/packages/0d/bf/537a61030b84ae4cd5022d5c7b014fd9bc3ce7c02358919153a6658a61d3/bing_image_downloader-1.0.4-py3-none-any.whl\n",
            "Installing collected packages: bing-image-downloader\n",
            "Successfully installed bing-image-downloader-1.0.4\n"
          ],
          "name": "stdout"
        }
      ]
    },
    {
      "cell_type": "code",
      "metadata": {
        "id": "gRC6ThWou3NL"
      },
      "source": [
        "!mkdir images"
      ],
      "execution_count": null,
      "outputs": []
    },
    {
      "cell_type": "code",
      "metadata": {
        "colab": {
          "base_uri": "https://localhost:8080/"
        },
        "id": "Oa6nFnsLvCLz",
        "outputId": "3273ac23-de36-481b-e1e7-d789bbfed925"
      },
      "source": [
        "from bing_image_downloader import downloader\n",
        "downloader.download(\"pretty sunflower\",limit=30,output_dir='images',\n",
        "                    adult_filter_off=True)"
      ],
      "execution_count": null,
      "outputs": [
        {
          "output_type": "stream",
          "text": [
            "\n",
            "\n",
            "[!!]Indexing page: 1\n",
            "\n",
            "[%] Indexed 11 Images on Page 1.\n",
            "\n",
            "===============================================\n",
            "\n",
            "[%] Downloading Image #1 from https://i.pinimg.com/736x/17/c8/4d/17c84d13480c3089ff88654c860cfbdd.jpg\n",
            "[%] File Downloaded !\n",
            "\n",
            "[%] Downloading Image #2 from https://premeditatedleftovers.com/wp-content/uploads/2014/06/lampbird-feeder2.jpg\n",
            "[%] File Downloaded !\n",
            "\n",
            "[%] Downloading Image #3 from http://www.wallpapers13.com/wp-content/uploads/2015/12/Wisteria-Ashikaga-Flower-park-Japan-tree-with-purple-flowers.jpg\n",
            "[%] File Downloaded !\n",
            "\n",
            "[%] Downloading Image #4 from https://cdn.shopify.com/s/files/1/1122/4336/products/Vevet_Queen_2_1024x1024.jpg?v=1454616220\n",
            "[%] File Downloaded !\n",
            "\n",
            "[%] Downloading Image #5 from https://78.media.tumblr.com/4f7dd99d041fbd6ce381de6bad55e59b/tumblr_msjdiuvdPh1s8w66bo1_500.gif\n",
            "[%] File Downloaded !\n",
            "\n",
            "[%] Downloading Image #6 from https://www.bing.com/th/id/OGC.1bcf58b81cd877391bdc2247416ddb38?pid=1.7&amp;rurl=https%3a%2f%2f78.media.tumblr.com%2f4f7dd99d041fbd6ce381de6bad55e59b%2ftumblr_msjdiuvdPh1s8w66bo1_500.gif&amp;ehk=6i8CEt%2bcBb2RyiXLKO5fHcJlEHN3X6anDqIOAVScqO8%3d\n",
            "[!] Issue getting: https://www.bing.com/th/id/OGC.1bcf58b81cd877391bdc2247416ddb38?pid=1.7&amp;rurl=https%3a%2f%2f78.media.tumblr.com%2f4f7dd99d041fbd6ce381de6bad55e59b%2ftumblr_msjdiuvdPh1s8w66bo1_500.gif&amp;ehk=6i8CEt%2bcBb2RyiXLKO5fHcJlEHN3X6anDqIOAVScqO8%3d\n",
            "[!] Error:: HTTP Error 404: Not Found\n",
            "[%] Downloading Image #6 from https://www.wallpapers13.com/wp-content/uploads/2015/12/Pretty-Pink-Rose-Wallpaper-colors-2560X1600-1366x768.jpg\n",
            "[%] File Downloaded !\n",
            "\n",
            "[%] Downloading Image #7 from https://i2.wp.com/www.ecstasycoffee.com/wp-content/uploads/2016/09/Pretty-sunflower-tattoo-design-with-a-bird-flying-above-it..jpg\n",
            "[%] File Downloaded !\n",
            "\n",
            "[%] Downloading Image #8 from http://ohbestdayever.com/wp-content/uploads/2017/12/rustic-sunflower-wedding-centerpiece-ideas.jpg\n",
            "[%] File Downloaded !\n",
            "\n",
            "[%] Downloading Image #9 from https://www.handmadecharlotte.com/wp-content/uploads/2014/05/7-backyard-crafts.jpg\n",
            "[%] File Downloaded !\n",
            "\n",
            "[%] Downloading Image #10 from http://ohbestdayever.com/wp-content/uploads/2017/12/rustic-chic-sunflower-wedding-centerpiece-ideas.jpg\n",
            "[%] File Downloaded !\n",
            "\n",
            "\n",
            "\n",
            "[!!]Indexing page: 2\n",
            "\n",
            "[%] Indexed 10 Images on Page 2.\n",
            "\n",
            "===============================================\n",
            "\n",
            "[%] Downloading Image #11 from http://www.infoescola.com/wp-content/uploads/2010/03/girassol_210235387-1000x664.jpg\n",
            "[%] File Downloaded !\n",
            "\n",
            "[%] Downloading Image #12 from https://i.pinimg.com/736x/9f/1e/34/9f1e3443a3f0ad0dccc555d6c7fe4612.jpg\n",
            "[%] File Downloaded !\n",
            "\n",
            "[%] Downloading Image #13 from http://www.prettydesigns.com/wp-content/uploads/2017/12/37-super-easy-nail-design-ideas-for-short-nails-15.jpg\n",
            "[%] File Downloaded !\n",
            "\n",
            "[%] Downloading Image #14 from https://c.stocksy.com/a/gp5900/z9/2167376.jpg\n",
            "[%] File Downloaded !\n",
            "\n",
            "[%] Downloading Image #15 from http://www.prettydesigns.com/wp-content/uploads/2014/09/Back-Flower-Tattoo.jpg\n",
            "[%] File Downloaded !\n",
            "\n",
            "[%] Downloading Image #16 from https://s2.best-wallpaper.net/wallpaper/iphone/1301/Yellow-flower-sunflower-summer-sunny-blurring-background_iphone_640x960.jpg\n",
            "[%] File Downloaded !\n",
            "\n",
            "[%] Downloading Image #17 from https://ae01.alicdn.com/kf/HTB1IxeaHVXXXXbbXpXXq6xXFXXXv/Professional-High-Skilled-Painter-Handmade-Beautiful-Landscape-Natural-Scenery-Oil-Painting-On-Canvas-For-Living-Room.jpg\n",
            "[%] File Downloaded !\n",
            "\n",
            "[%] Downloading Image #18 from http://www.wallpapers13.com/wp-content/uploads/2018/03/Lotus-pink-flower-green-leaves-pond-Lotus-Flower-HD-Wallpaper-2880x1800-1920x1440.jpg\n",
            "[%] File Downloaded !\n",
            "\n",
            "[%] Downloading Image #19 from http://myamazingthings.com/wp-content/uploads/2018/04/sunflower-decor-2-.jpg\n",
            "[%] File Downloaded !\n",
            "\n",
            "[%] Downloading Image #20 from https://www.holidaycardsapp.com/assets/card/b_day308.png\n",
            "[%] File Downloaded !\n",
            "\n",
            "\n",
            "\n",
            "[!!]Indexing page: 3\n",
            "\n",
            "[%] Indexed 9 Images on Page 3.\n",
            "\n",
            "===============================================\n",
            "\n",
            "[%] Downloading Image #21 from https://i.pinimg.com/736x/49/7b/d5/497bd55f180f61f0eb1d49162b808fbd.jpg\n",
            "[%] File Downloaded !\n",
            "\n",
            "[%] Downloading Image #22 from https://66.media.tumblr.com/44d35612a2a7601c2f8c8d35cf820193/tumblr_nqalbc4ywM1rwrn5zo1_500.jpg\n",
            "[%] File Downloaded !\n",
            "\n",
            "[%] Downloading Image #23 from http://www.prettydesigns.com/wp-content/uploads/2014/12/Blue-Flower-and-Skull-Tattoo.jpg\n",
            "[%] File Downloaded !\n",
            "\n",
            "[%] Downloading Image #24 from http://www.wallpapers13.com/wp-content/uploads/2015/12/Most-beautiful-nature-flower-pics-HD-wallpaper-1920x1440.jpg\n",
            "[%] File Downloaded !\n",
            "\n",
            "[%] Downloading Image #25 from http://www.saphireeventgroup.com/wp-content/uploads/files/6314/0916/2507/colorful_bridal_bouquets_6.jpg\n",
            "[%] File Downloaded !\n",
            "\n",
            "[%] Downloading Image #26 from https://i.pinimg.com/736x/19/1c/3d/191c3def64daa5dc764f8fa78afe4910--teal.jpg\n",
            "[%] File Downloaded !\n",
            "\n",
            "[%] Downloading Image #27 from https://www.prettydesigns.com/wp-content/uploads/2014/11/Flower-Tattoo1.jpg\n",
            "[%] File Downloaded !\n",
            "\n",
            "[%] Downloading Image #28 from https://i.pinimg.com/736x/1e/eb/a3/1eeba3fd5c310078db01dbf78ac21002.jpg\n",
            "[%] File Downloaded !\n",
            "\n",
            "[%] Downloading Image #29 from https://www.tattoosforyou.org/wp-content/uploads/2016/03/Dainty-Tattoos.jpg\n",
            "[%] File Downloaded !\n",
            "\n",
            "\n",
            "\n",
            "[!!]Indexing page: 4\n",
            "\n",
            "[%] Indexed 8 Images on Page 4.\n",
            "\n",
            "===============================================\n",
            "\n",
            "[%] Downloading Image #30 from https://66.media.tumblr.com/44d35612a2a7601c2f8c8d35cf820193/tumblr_nqalbc4ywM1rwrn5zo1_500.jpg\n",
            "[%] File Downloaded !\n",
            "\n",
            "\n",
            "\n",
            "[%] Done. Downloaded 30 images.\n",
            "\n",
            "===============================================\n",
            "\n"
          ],
          "name": "stdout"
        }
      ]
    },
    {
      "cell_type": "code",
      "metadata": {
        "colab": {
          "base_uri": "https://localhost:8080/"
        },
        "id": "nEjwLBojv_jD",
        "outputId": "6ebdfe68-8bd4-488c-f728-5d364af130ac"
      },
      "source": [
        "downloader.download(\"rugby ball leather\",limit=30,output_dir='images',\n",
        "                    adult_filter_off=True)"
      ],
      "execution_count": null,
      "outputs": [
        {
          "output_type": "stream",
          "text": [
            "\n",
            "\n",
            "[!!]Indexing page: 1\n",
            "\n",
            "[%] Indexed 10 Images on Page 1.\n",
            "\n",
            "===============================================\n",
            "\n",
            "[%] Downloading Image #1 from https://www.sportsballshop.co.uk/acatalog/GSTLeatherFront.jpg\n",
            "[%] File Downloaded !\n",
            "\n",
            "[%] Downloading Image #2 from http://cdn.shopify.com/s/files/1/0788/5979/products/mvp-leather-balls-executive-leather-32p-soccer-ball-2_1024x1024.jpg?v=1548126529\n",
            "[%] File Downloaded !\n",
            "\n",
            "[%] Downloading Image #3 from https://www.cgstudio.com/imgd/l/17/58aaf6dca70248a0408b4567/rugby_ball_gilbert_03.jpg\n",
            "[%] File Downloaded !\n",
            "\n",
            "[%] Downloading Image #4 from https://www.prodirectrugby.com/productimages/V3_1_Main/62296.jpg\n",
            "[!] Issue getting: https://www.prodirectrugby.com/productimages/V3_1_Main/62296.jpg\n",
            "[!] Error:: HTTP Error 403: Forbidden\n",
            "[%] Downloading Image #4 from https://cdn.shopify.com/s/files/1/0020/1025/1324/products/32p_black_960x.png?v=1534865418\n",
            "[%] File Downloaded !\n",
            "\n",
            "[%] Downloading Image #5 from https://media.istockphoto.com/vectors/basketball-or-football-ball-texture-vector-id674391316?s=170667a\n",
            "[%] File Downloaded !\n",
            "\n",
            "[%] Downloading Image #6 from https://meltonenterprises.net/wp-content/uploads/2016/10/rubber-ball-low-bounce.jpg\n",
            "[%] File Downloaded !\n",
            "\n",
            "[%] Downloading Image #7 from https://static.vecteezy.com/system/resources/previews/000/104/890/original/football-texture-background-vector.jpg\n",
            "[%] File Downloaded !\n",
            "\n",
            "[%] Downloading Image #8 from https://cdn.pixabay.com/photo/2014/04/02/16/19/american-football-306935_960_720.png\n",
            "[%] File Downloaded !\n",
            "\n",
            "[%] Downloading Image #9 from https://thumbs.dreamstime.com/z/american-football-ball-character-patriotic-hat-usa-flag-cartoon-33556028.jpg\n",
            "[%] File Downloaded !\n",
            "\n",
            "\n",
            "\n",
            "[!!]Indexing page: 2\n",
            "\n",
            "[%] Indexed 10 Images on Page 2.\n",
            "\n",
            "===============================================\n",
            "\n",
            "[%] Downloading Image #10 from https://www.sportsballshop.co.uk/acatalog/GSTLeatherFront.jpg\n",
            "[%] File Downloaded !\n",
            "\n",
            "[%] Downloading Image #11 from http://cdn.shopify.com/s/files/1/0788/5979/products/mvp-leather-balls-executive-leather-32p-soccer-ball-2_1024x1024.jpg?v=1548126529\n",
            "[%] File Downloaded !\n",
            "\n",
            "[%] Downloading Image #12 from https://www.cgstudio.com/imgd/l/17/58aaf6dca70248a0408b4567/rugby_ball_gilbert_03.jpg\n",
            "[%] File Downloaded !\n",
            "\n",
            "[%] Downloading Image #13 from https://www.prodirectrugby.com/productimages/V3_1_Main/62296.jpg\n",
            "[!] Issue getting: https://www.prodirectrugby.com/productimages/V3_1_Main/62296.jpg\n",
            "[!] Error:: HTTP Error 403: Forbidden\n",
            "[%] Downloading Image #13 from https://cdn.shopify.com/s/files/1/0020/1025/1324/products/32p_black_960x.png?v=1534865418\n",
            "[%] File Downloaded !\n",
            "\n",
            "[%] Downloading Image #14 from https://media.istockphoto.com/vectors/basketball-or-football-ball-texture-vector-id674391316?s=170667a\n",
            "[%] File Downloaded !\n",
            "\n",
            "[%] Downloading Image #15 from https://meltonenterprises.net/wp-content/uploads/2016/10/rubber-ball-low-bounce.jpg\n",
            "[%] File Downloaded !\n",
            "\n",
            "[%] Downloading Image #16 from https://static.vecteezy.com/system/resources/previews/000/104/890/original/football-texture-background-vector.jpg\n",
            "[%] File Downloaded !\n",
            "\n",
            "[%] Downloading Image #17 from https://cdn.pixabay.com/photo/2014/04/02/16/19/american-football-306935_960_720.png\n",
            "[%] File Downloaded !\n",
            "\n",
            "[%] Downloading Image #18 from https://thumbs.dreamstime.com/z/american-football-ball-character-patriotic-hat-usa-flag-cartoon-33556028.jpg\n",
            "[%] File Downloaded !\n",
            "\n",
            "\n",
            "\n",
            "[!!]Indexing page: 3\n",
            "\n",
            "[%] Indexed 9 Images on Page 3.\n",
            "\n",
            "===============================================\n",
            "\n",
            "[%] Downloading Image #19 from http://www.kraveantiques.co.uk/images/products/Brown-Rugby-Ball-1455-12.jpg\n",
            "[%] File Downloaded !\n",
            "\n",
            "[%] Downloading Image #20 from http://cdn1.bigcommerce.com/server1000/4dd02/images/stencil/1000x1000/products/682/3487/_MG_0368__86038.1332357471.jpg?c=2\n",
            "[%] File Downloaded !\n",
            "\n",
            "[%] Downloading Image #21 from http://cdn.notonthehighstreet.com/fs/8a/45/63d5-72fa-4da4-8ea3-05eb16e124e5/original_vintage-leather-rugby-ball-keyring.jpg\n",
            "[%] File Downloaded !\n",
            "\n",
            "[%] Downloading Image #22 from http://cdn.shopify.com/s/files/1/0788/5979/products/mvp-leather-balls-heritage-leather-t-soccer-ball-2_1024x1024.jpg?v=1554719760\n",
            "[%] File Downloaded !\n",
            "\n",
            "[%] Downloading Image #23 from https://www.john-woodbridge.com/1020-large_default/ballon-de-football-vintage-1950.jpg\n",
            "[%] File Downloaded !\n",
            "\n",
            "[%] Downloading Image #24 from https://upload.wikimedia.org/wikipedia/commons/9/96/Rugby_ball_webb_ellis.png\n",
            "[%] File Downloaded !\n",
            "\n",
            "[%] Downloading Image #25 from https://images-na.ssl-images-amazon.com/images/I/810s6el6lYL.jpg\n",
            "[%] File Downloaded !\n",
            "\n",
            "[%] Downloading Image #26 from https://img0.etsystatic.com/035/0/7864717/il_570xN.652334420_82ja.jpg\n",
            "[%] File Downloaded !\n",
            "\n",
            "[%] Downloading Image #27 from http://1.bp.blogspot.com/_5DeO0c-n7js/SaHmjLnZWFI/AAAAAAAAABE/oOVbaGI0Y9I/s320/uniform.jpg\n",
            "[%] File Downloaded !\n",
            "\n",
            "\n",
            "\n",
            "[!!]Indexing page: 4\n",
            "\n",
            "[%] Indexed 8 Images on Page 4.\n",
            "\n",
            "===============================================\n",
            "\n",
            "[%] Downloading Image #28 from http://cdn1.bigcommerce.com/server1000/4dd02/images/stencil/1000x1000/products/682/3487/_MG_0368__86038.1332357471.jpg?c=2\n",
            "[%] File Downloaded !\n",
            "\n",
            "[%] Downloading Image #29 from http://cdn.notonthehighstreet.com/fs/8a/45/63d5-72fa-4da4-8ea3-05eb16e124e5/original_vintage-leather-rugby-ball-keyring.jpg\n",
            "[%] File Downloaded !\n",
            "\n",
            "[%] Downloading Image #30 from http://cdn.shopify.com/s/files/1/0788/5979/products/mvp-leather-balls-heritage-leather-t-soccer-ball-2_1024x1024.jpg?v=1554719760\n",
            "[%] File Downloaded !\n",
            "\n",
            "\n",
            "\n",
            "[%] Done. Downloaded 30 images.\n",
            "\n",
            "===============================================\n",
            "\n"
          ],
          "name": "stdout"
        }
      ]
    },
    {
      "cell_type": "code",
      "metadata": {
        "colab": {
          "base_uri": "https://localhost:8080/"
        },
        "id": "s94szcPrwVUZ",
        "outputId": "33cab71c-4e2e-49d2-de73-a14ecbf467d2"
      },
      "source": [
        "downloader.download(\"ice cream cone\",limit=30,output_dir='images',\n",
        "                    adult_filter_off=True)"
      ],
      "execution_count": null,
      "outputs": [
        {
          "output_type": "stream",
          "text": [
            "\n",
            "\n",
            "[!!]Indexing page: 1\n",
            "\n",
            "[%] Indexed 10 Images on Page 1.\n",
            "\n",
            "===============================================\n",
            "\n",
            "[%] Downloading Image #1 from https://pluspng.com/img-png/waffle-cone-png-medium-waffle-cones-815.png\n",
            "[%] File Downloaded !\n",
            "\n",
            "[%] Downloading Image #2 from http://www.roadsideamerica.com/attract/images/il/ILMATtwistee_andy.jpg\n",
            "[%] File Downloaded !\n",
            "\n",
            "[%] Downloading Image #3 from https://townsquare.media/site/942/files/2018/07/Ice-Cream-Cone-TSM.jpg?w=1200&amp;h=0&amp;zc=1&amp;s=0&amp;a=t&amp;q=89\n",
            "[%] File Downloaded !\n",
            "\n",
            "[%] Downloading Image #4 from https://static.boredpanda.com/blog/wp-content/uploads/2017/04/black-ice-cream-cone-little-damage-4-590085eb5e59a__700.jpg\n",
            "[%] File Downloaded !\n",
            "\n",
            "[%] Downloading Image #5 from https://the-glass-co.com/wp-content/uploads/2016/10/ice-cream-presentation.gif\n",
            "[%] File Downloaded !\n",
            "\n",
            "[%] Downloading Image #6 from http://farm5.staticflickr.com/4004/4677680783_dc80c313f2_z.jpg\n",
            "[%] File Downloaded !\n",
            "\n",
            "[%] Downloading Image #7 from https://c.stocksy.com/a/vkH400/z9/1021569.jpg\n",
            "[%] File Downloaded !\n",
            "\n",
            "[%] Downloading Image #8 from https://geekologie.com/2017/04/26/black-soft-serve-ice-cream-5.jpg\n",
            "[%] File Downloaded !\n",
            "\n",
            "[%] Downloading Image #9 from https://c8.alamy.com/comp/EH73TT/a-big-ice-cream-cone-banner-on-display-outside-a-gelateria-rome-italy-EH73TT.jpg\n",
            "[%] File Downloaded !\n",
            "\n",
            "[%] Downloading Image #10 from https://www.roadsideamerica.com/attract/images/mo/MOAFFicecream_laura.jpg\n",
            "[%] File Downloaded !\n",
            "\n",
            "\n",
            "\n",
            "[!!]Indexing page: 2\n",
            "\n",
            "[%] Indexed 10 Images on Page 2.\n",
            "\n",
            "===============================================\n",
            "\n",
            "[%] Downloading Image #11 from http://nolisoli.ph/wp-content/uploads/2018/04/EASY-NO-CHURN-Vegan-Chocolate-Ice-Cream-5-ingredients-and-NATURALLY-sweetened-with-dates-vegan-glutenfree-healthy.jpg\n",
            "[%] File Downloaded !\n",
            "\n",
            "[%] Downloading Image #12 from http://www.diyhowto.org/wp-content/uploads/2019/05/DIYHowto-Crochet-Drawstring-Bags-Free-Patterns-06.jpg\n",
            "[%] File Downloaded !\n",
            "\n",
            "[%] Downloading Image #13 from http://www.anothersomething.org/wp-content/uploads-anothersomething/2014/04/58_MG_1877-new-brighton-copy.jpg\n",
            "[%] File Downloaded !\n",
            "\n",
            "[%] Downloading Image #14 from https://upload.wikimedia.org/wikipedia/commons/thumb/a/ad/Crystalcaveformations01.jpg/1200px-Crystalcaveformations01.jpg\n",
            "[%] File Downloaded !\n",
            "\n",
            "[%] Downloading Image #15 from http://heavenlycakepops.com/wp-content/uploads/2013/07/image-6sm-767x1024.jpg\n",
            "[%] File Downloaded !\n",
            "\n",
            "[%] Downloading Image #16 from http://www.ateriet.com/wp-content/uploads/2016/07/McFlurry-Makes-Ice-Cream-Sad-in-fun-Ads-2.jpg\n",
            "[%] File Downloaded !\n",
            "\n",
            "[%] Downloading Image #17 from https://thedecoratedcookie.com/wp-content/uploads/2016/06/ice-cream5.jpg\n",
            "[%] File Downloaded !\n",
            "\n",
            "[%] Downloading Image #18 from http://www.whoinventedit.net/wp-content/uploads/2009/09/IceCream.jpg\n",
            "[%] File Downloaded !\n",
            "\n",
            "[%] Downloading Image #19 from https://www.seriouseats.com/images/2012/11/20120712-214287-blue-moon-ice-cream.jpeg\n",
            "[!] Issue getting: https://www.seriouseats.com/images/2012/11/20120712-214287-blue-moon-ice-cream.jpeg\n",
            "[!] Error:: HTTP Error 404: Not Found\n",
            "[%] Downloading Image #19 from https://www.booooooom.com/wp-content/uploads/2015/08/Penone2.jpg\n",
            "[%] File Downloaded !\n",
            "\n",
            "\n",
            "\n",
            "[!!]Indexing page: 3\n",
            "\n",
            "[%] Indexed 9 Images on Page 3.\n",
            "\n",
            "===============================================\n",
            "\n",
            "[%] Downloading Image #20 from http://www.hersheysfarmmarket.com/department/ice-cream/gmccone.jpg\n",
            "[%] File Downloaded !\n",
            "\n",
            "[%] Downloading Image #21 from https://c2.staticflickr.com/4/3357/4602700664_6d9473e26c_b.jpg\n",
            "[%] File Downloaded !\n",
            "\n",
            "[%] Downloading Image #22 from https://www.askideas.com/media/77/Scary-Ice-Cream-Tattoo-Design.jpg\n",
            "[%] File Downloaded !\n",
            "\n",
            "[%] Downloading Image #23 from https://2.bp.blogspot.com/-qWO6yj1349k/WcVoBIhiZmI/AAAAAAAAWrw/KjKGJ6nNxZ8IEhizhpn_58r41CYQmyFBACLcBGAs/w1200-h630-p-k-no-nu/trader%2Bjoes%2Bpumpkin%2Bginger%2Bmini%2Bice%2Bcream%2Bcones%2Bbox.jpg\n",
            "[%] File Downloaded !\n",
            "\n",
            "[%] Downloading Image #24 from https://i.pinimg.com/736x/bc/9f/95/bc9f9537ab77c67c16ec7ea54aaeae90.jpg\n",
            "[%] File Downloaded !\n",
            "\n",
            "[%] Downloading Image #25 from https://catchyfreebies.com/wp-content/uploads/2016/04/10-fun-facts-about-ice-cream-healthy-clean-eating-enjoy-catchyfreebies.jpg\n",
            "[%] File Downloaded !\n",
            "\n",
            "[%] Downloading Image #26 from https://www.finewebstores.com/thumbnail.asp?file=assets/images/metalsigns/foodbeverage/98016-classic-99.jpg&amp;maxx=300&amp;maxy=0\n",
            "[%] File Downloaded !\n",
            "\n",
            "[%] Downloading Image #27 from http://onlyinark.com/wp-content/uploads/2017/05/Best-Ice-Cream-in-Arkansas-Featured-Image.png\n",
            "[%] File Downloaded !\n",
            "\n",
            "[%] Downloading Image #28 from https://tattooblend.com/wp-content/uploads/2016/09/small-ice-cream-cone-tattoo.jpg\n",
            "[%] File Downloaded !\n",
            "\n",
            "\n",
            "\n",
            "[!!]Indexing page: 4\n",
            "\n",
            "[%] Indexed 8 Images on Page 4.\n",
            "\n",
            "===============================================\n",
            "\n",
            "[%] Downloading Image #29 from https://c2.staticflickr.com/4/3357/4602700664_6d9473e26c_b.jpg\n",
            "[%] File Downloaded !\n",
            "\n",
            "[%] Downloading Image #30 from https://2.bp.blogspot.com/-qWO6yj1349k/WcVoBIhiZmI/AAAAAAAAWrw/KjKGJ6nNxZ8IEhizhpn_58r41CYQmyFBACLcBGAs/w1200-h630-p-k-no-nu/trader%2Bjoes%2Bpumpkin%2Bginger%2Bmini%2Bice%2Bcream%2Bcones%2Bbox.jpg\n",
            "[%] File Downloaded !\n",
            "\n",
            "\n",
            "\n",
            "[%] Done. Downloaded 30 images.\n",
            "\n",
            "===============================================\n",
            "\n"
          ],
          "name": "stdout"
        }
      ]
    },
    {
      "cell_type": "code",
      "metadata": {
        "colab": {
          "base_uri": "https://localhost:8080/"
        },
        "id": "7eOqG3U1xzig",
        "outputId": "ee664063-4710-403d-c6b8-259be4957e8c"
      },
      "source": [
        "import numpy as np\n",
        "\n",
        "a = np.array([[1,2,3,4,5],\n",
        "              [4,5,6,7,8]])\n",
        "a.ndim"
      ],
      "execution_count": null,
      "outputs": [
        {
          "output_type": "execute_result",
          "data": {
            "text/plain": [
              "2"
            ]
          },
          "metadata": {
            "tags": []
          },
          "execution_count": 9
        },
        {
          "output_type": "stream",
          "text": [
            "time: 4.66 ms (started: 2021-05-20 07:58:48 +00:00)\n"
          ],
          "name": "stdout"
        }
      ]
    },
    {
      "cell_type": "code",
      "metadata": {
        "colab": {
          "base_uri": "https://localhost:8080/"
        },
        "id": "L7Vm35wFyQhn",
        "outputId": "92078623-505a-4a5c-eac1-d430cc16f873"
      },
      "source": [
        "a.flatten()"
      ],
      "execution_count": null,
      "outputs": [
        {
          "output_type": "execute_result",
          "data": {
            "text/plain": [
              "array([1, 2, 3, 4, 5, 4, 5, 6, 7, 8])"
            ]
          },
          "metadata": {
            "tags": []
          },
          "execution_count": 10
        },
        {
          "output_type": "stream",
          "text": [
            "time: 3.55 ms (started: 2021-05-20 07:59:16 +00:00)\n"
          ],
          "name": "stdout"
        }
      ]
    },
    {
      "cell_type": "code",
      "metadata": {
        "colab": {
          "base_uri": "https://localhost:8080/"
        },
        "id": "ede6WhnJxF6o",
        "outputId": "37952574-4923-44aa-a3a0-41af01ac5e00"
      },
      "source": [
        "import os\n",
        "import matplotlib.pyplot as plt\n",
        "import numpy as np\n",
        "from skimage.io import imread\n",
        "from skimage.transform import resize\n",
        "\n",
        "target = []\n",
        "images = []\n",
        "flat_data = []\n",
        "\n",
        "DATADIR = '/content/images'\n",
        "CATEGORIES = ['pretty sunflower','rugby ball leather','ice cream cone']\n",
        "\n",
        "for category in CATEGORIES:\n",
        "  class_num = CATEGORIES.index(category)\n",
        "  path = os.path.join(DATADIR,category)\n",
        "  for img in os.listdir(path):\n",
        "    img_array = imread(os.path.join(path,img))\n",
        "    #print(img_array.shape)\n",
        "    #plt.imshow(img_array)\n",
        "    img_resized = resize(img_array,(150,150,3))\n",
        "    flat_data.append(img_resized.flatten())\n",
        "    images.append(img_resized)\n",
        "    target.append(class_num)\n",
        "\n",
        "flat_data = np.array(flat_data)\n",
        "target = np.array(target)\n",
        "images = np.array(images)\n",
        "\n",
        "      "
      ],
      "execution_count": null,
      "outputs": [
        {
          "output_type": "stream",
          "text": [
            "time: 17 s (started: 2021-05-20 08:14:59 +00:00)\n"
          ],
          "name": "stdout"
        }
      ]
    },
    {
      "cell_type": "code",
      "metadata": {
        "colab": {
          "base_uri": "https://localhost:8080/"
        },
        "id": "6xNF1a_81_nZ",
        "outputId": "6aa5b829-ac19-46cf-b65e-4417bd74ecbd"
      },
      "source": [
        "len(flat_data[0])"
      ],
      "execution_count": null,
      "outputs": [
        {
          "output_type": "execute_result",
          "data": {
            "text/plain": [
              "67500"
            ]
          },
          "metadata": {
            "tags": []
          },
          "execution_count": 21
        },
        {
          "output_type": "stream",
          "text": [
            "time: 3.55 ms (started: 2021-05-20 08:17:03 +00:00)\n"
          ],
          "name": "stdout"
        }
      ]
    },
    {
      "cell_type": "code",
      "metadata": {
        "colab": {
          "base_uri": "https://localhost:8080/"
        },
        "id": "uYhO0gsq2Jsq",
        "outputId": "5d0cd78e-de2b-4ccc-ad0d-ac3a21a53256"
      },
      "source": [
        "150*150*3"
      ],
      "execution_count": null,
      "outputs": [
        {
          "output_type": "execute_result",
          "data": {
            "text/plain": [
              "67500"
            ]
          },
          "metadata": {
            "tags": []
          },
          "execution_count": 22
        },
        {
          "output_type": "stream",
          "text": [
            "time: 3.04 ms (started: 2021-05-20 08:17:16 +00:00)\n"
          ],
          "name": "stdout"
        }
      ]
    },
    {
      "cell_type": "code",
      "metadata": {
        "colab": {
          "base_uri": "https://localhost:8080/"
        },
        "id": "M4DJ_w8V2b2Y",
        "outputId": "949f2c83-84a9-422b-c576-87a83a19f1c0"
      },
      "source": [
        "target"
      ],
      "execution_count": null,
      "outputs": [
        {
          "output_type": "execute_result",
          "data": {
            "text/plain": [
              "array([0, 0, 0, 0, 0, 0, 0, 0, 0, 0, 0, 0, 0, 0, 0, 0, 0, 0, 0, 0, 0, 0,\n",
              "       0, 0, 0, 0, 0, 0, 0, 0, 1, 1, 1, 1, 1, 1, 1, 1, 1, 1, 1, 1, 1, 1,\n",
              "       1, 1, 1, 1, 1, 1, 1, 1, 1, 1, 1, 1, 1, 1, 1, 1, 2, 2, 2, 2, 2, 2,\n",
              "       2, 2, 2, 2, 2, 2, 2, 2, 2, 2, 2, 2, 2, 2, 2, 2, 2, 2, 2, 2, 2, 2,\n",
              "       2, 2])"
            ]
          },
          "metadata": {
            "tags": []
          },
          "execution_count": 23
        },
        {
          "output_type": "stream",
          "text": [
            "time: 3.77 ms (started: 2021-05-20 08:17:37 +00:00)\n"
          ],
          "name": "stdout"
        }
      ]
    },
    {
      "cell_type": "code",
      "metadata": {
        "colab": {
          "base_uri": "https://localhost:8080/",
          "height": 299
        },
        "id": "WuAPDnTv2hoQ",
        "outputId": "5a8b50ce-90b3-452b-c504-3be6136c57bf"
      },
      "source": [
        "unique,count = np.unique(target,return_counts=True)\n",
        "plt.bar(CATEGORIES,count)"
      ],
      "execution_count": null,
      "outputs": [
        {
          "output_type": "execute_result",
          "data": {
            "text/plain": [
              "<BarContainer object of 3 artists>"
            ]
          },
          "metadata": {
            "tags": []
          },
          "execution_count": 27
        },
        {
          "output_type": "display_data",
          "data": {
            "image/png": "[encoded data removed]",
            "text/plain": [
              "<Figure size 432x288 with 1 Axes>"
            ]
          },
          "metadata": {
            "tags": [],
            "needs_background": "light"
          }
        },
        {
          "output_type": "stream",
          "text": [
            "time: 125 ms (started: 2021-05-20 08:20:29 +00:00)\n"
          ],
          "name": "stdout"
        }
      ]
    },
    {
      "cell_type": "code",
      "metadata": {
        "colab": {
          "base_uri": "https://localhost:8080/"
        },
        "id": "f70LGl6x3NnV",
        "outputId": "932b1246-d3e2-4b0a-b732-8c0310e48af1"
      },
      "source": [
        "from sklearn.model_selection import train_test_split\n",
        "x_train,x_test,y_train,y_test = train_test_split(flat_data,target,\n",
        "                                    test_size=0.3,random_state=109)"
      ],
      "execution_count": null,
      "outputs": [
        {
          "output_type": "stream",
          "text": [
            "time: 18.6 ms (started: 2021-05-20 08:23:53 +00:00)\n"
          ],
          "name": "stdout"
        }
      ]
    },
    {
      "cell_type": "code",
      "metadata": {
        "colab": {
          "base_uri": "https://localhost:8080/"
        },
        "id": "I_6vRt_l38y8",
        "outputId": "9d738759-b44a-4481-f844-43861926d7be"
      },
      "source": [
        "from sklearn.model_selection import GridSearchCV\n",
        "from sklearn import svm\n",
        "param_grid =[\n",
        "             {'C':[1,10,100,1000],'kernel':['linear']},\n",
        "             {'C':[1,10,100,1000],'gamma':[0.001,0.0001],'kernel':['rbf']},\n",
        "]\n",
        "\n",
        "svc = svm.SVC(probability=True)\n",
        "clf = GridSearchCV(svc,param_grid)\n",
        "clf.fit(x_train,y_train)"
      ],
      "execution_count": null,
      "outputs": [
        {
          "output_type": "execute_result",
          "data": {
            "text/plain": [
              "GridSearchCV(cv=None, error_score=nan,\n",
              "             estimator=SVC(C=1.0, break_ties=False, cache_size=200,\n",
              "                           class_weight=None, coef0=0.0,\n",
              "                           decision_function_shape='ovr', degree=3,\n",
              "                           gamma='scale', kernel='rbf', max_iter=-1,\n",
              "                           probability=True, random_state=None, shrinking=True,\n",
              "                           tol=0.001, verbose=False),\n",
              "             iid='deprecated', n_jobs=None,\n",
              "             param_grid=[{'C': [1, 10, 100, 1000], 'kernel': ['linear']},\n",
              "                         {'C': [1, 10, 100, 1000], 'gamma': [0.001, 0.0001],\n",
              "                          'kernel': ['rbf']}],\n",
              "             pre_dispatch='2*n_jobs', refit=True, return_train_score=False,\n",
              "             scoring=None, verbose=0)"
            ]
          },
          "metadata": {
            "tags": []
          },
          "execution_count": 30
        },
        {
          "output_type": "stream",
          "text": [
            "time: 1min 41s (started: 2021-05-20 08:33:43 +00:00)\n"
          ],
          "name": "stdout"
        }
      ]
    },
    {
      "cell_type": "code",
      "metadata": {
        "colab": {
          "base_uri": "https://localhost:8080/"
        },
        "id": "LBXquz8J6pVR",
        "outputId": "cbcc5359-48d2-42a9-b4ee-61a8780a1739"
      },
      "source": [
        "y_pred = clf.predict(x_test)\n",
        "y_pred"
      ],
      "execution_count": null,
      "outputs": [
        {
          "output_type": "execute_result",
          "data": {
            "text/plain": [
              "array([1, 2, 1, 0, 2, 2, 0, 0, 1, 2, 1, 2, 1, 2, 2, 1, 2, 1, 1, 1, 2, 2,\n",
              "       1, 2, 0, 0, 1])"
            ]
          },
          "metadata": {
            "tags": []
          },
          "execution_count": 31
        },
        {
          "output_type": "stream",
          "text": [
            "time: 156 ms (started: 2021-05-20 08:36:51 +00:00)\n"
          ],
          "name": "stdout"
        }
      ]
    },
    {
      "cell_type": "code",
      "metadata": {
        "colab": {
          "base_uri": "https://localhost:8080/"
        },
        "id": "ZRiOSrjH68bo",
        "outputId": "a006b20b-7f8c-44d4-ea5e-7fbe0a14f45e"
      },
      "source": [
        "y_test"
      ],
      "execution_count": null,
      "outputs": [
        {
          "output_type": "execute_result",
          "data": {
            "text/plain": [
              "array([1, 0, 1, 2, 2, 1, 0, 1, 1, 0, 1, 0, 1, 2, 2, 1, 2, 1, 0, 1, 2, 2,\n",
              "       2, 0, 0, 0, 1])"
            ]
          },
          "metadata": {
            "tags": []
          },
          "execution_count": 32
        },
        {
          "output_type": "stream",
          "text": [
            "time: 4.03 ms (started: 2021-05-20 08:37:10 +00:00)\n"
          ],
          "name": "stdout"
        }
      ]
    },
    {
      "cell_type": "code",
      "metadata": {
        "colab": {
          "base_uri": "https://localhost:8080/"
        },
        "id": "VTZoY60B7AW6",
        "outputId": "282ab59d-8e08-4d37-8475-23ce94b272a1"
      },
      "source": [
        "from sklearn.metrics import accuracy_score,confusion_matrix"
      ],
      "execution_count": null,
      "outputs": [
        {
          "output_type": "stream",
          "text": [
            "time: 1.24 ms (started: 2021-05-20 08:39:34 +00:00)\n"
          ],
          "name": "stdout"
        }
      ]
    },
    {
      "cell_type": "code",
      "metadata": {
        "colab": {
          "base_uri": "https://localhost:8080/"
        },
        "id": "8vGnxHwV7jWR",
        "outputId": "4244d7b7-0331-4a97-c1ca-9fbc960ed348"
      },
      "source": [
        "accuracy_score(y_pred,y_test)"
      ],
      "execution_count": null,
      "outputs": [
        {
          "output_type": "execute_result",
          "data": {
            "text/plain": [
              "0.6666666666666666"
            ]
          },
          "metadata": {
            "tags": []
          },
          "execution_count": 35
        },
        {
          "output_type": "stream",
          "text": [
            "time: 4.52 ms (started: 2021-05-20 08:40:05 +00:00)\n"
          ],
          "name": "stdout"
        }
      ]
    },
    {
      "cell_type": "code",
      "metadata": {
        "colab": {
          "base_uri": "https://localhost:8080/"
        },
        "id": "xFN-6OVy7rL5",
        "outputId": "3996f8e5-213e-434b-8040-278c8cf347ba"
      },
      "source": [
        "confusion_matrix(y_pred,y_test)"
      ],
      "execution_count": null,
      "outputs": [
        {
          "output_type": "execute_result",
          "data": {
            "text/plain": [
              "array([[3, 1, 1],\n",
              "       [1, 9, 1],\n",
              "       [4, 1, 6]])"
            ]
          },
          "metadata": {
            "tags": []
          },
          "execution_count": 36
        },
        {
          "output_type": "stream",
          "text": [
            "time: 4.99 ms (started: 2021-05-20 08:40:55 +00:00)\n"
          ],
          "name": "stdout"
        }
      ]
    },
    {
      "cell_type": "code",
      "metadata": {
        "colab": {
          "base_uri": "https://localhost:8080/"
        },
        "id": "HPUjO82T79F3",
        "outputId": "7670b8f1-ff5c-427b-df8f-c6bbecbad851"
      },
      "source": [
        "import pickle\n",
        "pickle.dump(clf,open('img_model.p','wb'))"
      ],
      "execution_count": null,
      "outputs": [
        {
          "output_type": "stream",
          "text": [
            "time: 36.5 ms (started: 2021-05-20 08:48:08 +00:00)\n"
          ],
          "name": "stdout"
        }
      ]
    },
    {
      "cell_type": "code",
      "metadata": {
        "colab": {
          "base_uri": "https://localhost:8080/"
        },
        "id": "-_B1hdRJ9fuP",
        "outputId": "a501aa46-aa76-445f-a3f1-7f0d1b394460"
      },
      "source": [
        "model = pickle.load(open('img_model.p','rb'))"
      ],
      "execution_count": null,
      "outputs": [
        {
          "output_type": "stream",
          "text": [
            "time: 18.4 ms (started: 2021-05-20 08:49:04 +00:00)\n"
          ],
          "name": "stdout"
        }
      ]
    },
    {
      "cell_type": "code",
      "metadata": {
        "colab": {
          "base_uri": "https://localhost:8080/",
          "height": 337
        },
        "id": "RnOOd-ss9tgQ",
        "outputId": "5b1eb96e-1811-473f-cf25-1367e3954a74"
      },
      "source": [
        "flat_data = []\n",
        "url = input('Enter your URL')\n",
        "img = imread(url)\n",
        "img_resized = resize(img,(150,150,3))\n",
        "flat_data.append(img_resized.flatten())\n",
        "flat_data = np.array(flat_data)\n",
        "print(img.shape)\n",
        "plt.imshow(img_resized)\n",
        "y_out = model.predict(flat_data)\n",
        "y_out = CATEGORIES[y_out[0]]\n",
        "print(f' PREDICTED OUTPUT: {y_out}')"
      ],
      "execution_count": null,
      "outputs": [
        {
          "output_type": "stream",
          "text": [
            "Enter your URLhttps://5.imimg.com/data5/TO/DE/II/SELLER-53811964/ice-cream-cone-500x500.jpg\n",
            "(500, 500, 3)\n",
            " PREDICTED OUTPUT: ice cream cone\n"
          ],
          "name": "stdout"
        },
        {
          "output_type": "display_data",
          "data": {
            "image/png": "[encoded data removed]",
            "text/plain": [
              "<Figure size 432x288 with 1 Axes>"
            ]
          },
          "metadata": {
            "tags": [],
            "needs_background": "light"
          }
        },
        {
          "output_type": "stream",
          "text": [
            "time: 41.8 s (started: 2021-05-20 08:57:47 +00:00)\n"
          ],
          "name": "stdout"
        }
      ]
    },
    {
      "cell_type": "code",
      "metadata": {
        "colab": {
          "base_uri": "https://localhost:8080/",
          "height": 1000
        },
        "id": "i9kq_WwPBzYP",
        "outputId": "b6f07348-fa01-4d0c-ac57-9dbbdd3e2041"
      },
      "source": [
        "!pip install streamlit\n",
        "\n",
        "!pip install pyngrok\n",
        "from pyngrok import ngrok"
      ],
      "execution_count": null,
      "outputs": [
        {
          "output_type": "stream",
          "text": [
            "Collecting streamlit\n",
            "\u001b[?25l  Downloading https://files.pythonhosted.org/packages/04/11/57097e14f72a2d1b2a1bbe86c2a8bc375661bfd5c30b5e8cee7c2fad9a44/streamlit-0.82.0-py2.py3-none-any.whl (8.2MB)\n",
            "\u001b[K     |████████████████████████████████| 8.2MB 7.3MB/s \n",
            "\u001b[?25hRequirement already satisfied: pillow>=6.2.0 in /usr/local/lib/python3.7/dist-packages (from streamlit) (7.1.2)\n",
            "Requirement already satisfied: tzlocal in /usr/local/lib/python3.7/dist-packages (from streamlit) (1.5.1)\n",
            "Requirement already satisfied: protobuf!=3.11,>=3.6.0 in /usr/local/lib/python3.7/dist-packages (from streamlit) (3.12.4)\n",
            "Requirement already satisfied: pyarrow; python_version < \"3.9\" in /usr/local/lib/python3.7/dist-packages (from streamlit) (3.0.0)\n",
            "Requirement already satisfied: numpy in /usr/local/lib/python3.7/dist-packages (from streamlit) (1.19.5)\n",
            "Requirement already satisfied: pandas>=0.21.0 in /usr/local/lib/python3.7/dist-packages (from streamlit) (1.1.5)\n",
            "Collecting validators\n",
            "  Downloading https://files.pythonhosted.org/packages/db/2f/7fed3ee94ad665ad2c1de87f858f10a7785251ff75b4fd47987888d07ef1/validators-0.18.2-py3-none-any.whl\n",
            "Collecting watchdog; platform_system != \"Darwin\"\n",
            "\u001b[?25l  Downloading https://files.pythonhosted.org/packages/f2/5b/36b3b11e557830de6fc1dc06e9aa3ee274119b8cea9cc98175dbbf72cf87/watchdog-2.1.2-py3-none-manylinux2014_x86_64.whl (74kB)\n",
            "\u001b[K     |████████████████████████████████| 81kB 10.5MB/s \n",
            "\u001b[?25hCollecting blinker\n",
            "\u001b[?25l  Downloading https://files.pythonhosted.org/packages/1b/51/e2a9f3b757eb802f61dc1f2b09c8c99f6eb01cf06416c0671253536517b6/blinker-1.4.tar.gz (111kB)\n",
            "\u001b[K     |████████████████████████████████| 112kB 53.5MB/s \n",
            "\u001b[?25hCollecting gitpython\n",
            "\u001b[?25l  Downloading https://files.pythonhosted.org/packages/27/da/6f6224fdfc47dab57881fe20c0d1bc3122be290198ba0bf26a953a045d92/GitPython-3.1.17-py3-none-any.whl (166kB)\n",
            "\u001b[K     |████████████████████████████████| 174kB 46.3MB/s \n",
            "\u001b[?25hRequirement already satisfied: packaging in /usr/local/lib/python3.7/dist-packages (from streamlit) (20.9)\n",
            "Requirement already satisfied: cachetools>=4.0 in /usr/local/lib/python3.7/dist-packages (from streamlit) (4.2.2)\n",
            "Requirement already satisfied: astor in /usr/local/lib/python3.7/dist-packages (from streamlit) (0.8.1)\n",
            "Requirement already satisfied: toml in /usr/local/lib/python3.7/dist-packages (from streamlit) (0.10.2)\n",
            "Collecting click<8.0,>=7.0\n",
            "\u001b[?25l  Downloading https://files.pythonhosted.org/packages/d2/3d/fa76db83bf75c4f8d338c2fd15c8d33fdd7ad23a9b5e57eb6c5de26b430e/click-7.1.2-py2.py3-none-any.whl (82kB)\n",
            "\u001b[K     |████████████████████████████████| 92kB 12.6MB/s \n",
            "\u001b[?25hRequirement already satisfied: altair>=3.2.0 in /usr/local/lib/python3.7/dist-packages (from streamlit) (4.1.0)\n",
            "Collecting pydeck>=0.1.dev5\n",
            "\u001b[?25l  Downloading https://files.pythonhosted.org/packages/d6/bc/f0e44828e4290367c869591d50d3671a4d0ee94926da6cb734b7b200308c/pydeck-0.6.2-py2.py3-none-any.whl (4.2MB)\n",
            "\u001b[K     |████████████████████████████████| 4.2MB 46.0MB/s \n",
            "\u001b[?25hRequirement already satisfied: requests in /usr/local/lib/python3.7/dist-packages (from streamlit) (2.23.0)\n",
            "Collecting base58\n",
            "  Downloading https://files.pythonhosted.org/packages/b8/a1/d9f565e9910c09fd325dc638765e8843a19fa696275c16cc08cf3b0a3c25/base58-2.1.0-py3-none-any.whl\n",
            "Requirement already satisfied: python-dateutil in /usr/local/lib/python3.7/dist-packages (from streamlit) (2.8.1)\n",
            "Requirement already satisfied: tornado>=5.0 in /usr/local/lib/python3.7/dist-packages (from streamlit) (5.1.1)\n",
            "Requirement already satisfied: pytz in /usr/local/lib/python3.7/dist-packages (from tzlocal->streamlit) (2018.9)\n",
            "Requirement already satisfied: six>=1.9 in /usr/local/lib/python3.7/dist-packages (from protobuf!=3.11,>=3.6.0->streamlit) (1.15.0)\n",
            "Requirement already satisfied: setuptools in /usr/local/lib/python3.7/dist-packages (from protobuf!=3.11,>=3.6.0->streamlit) (56.1.0)\n",
            "Requirement already satisfied: decorator>=3.4.0 in /usr/local/lib/python3.7/dist-packages (from validators->streamlit) (4.4.2)\n",
            "Requirement already satisfied: typing-extensions>=3.7.4.0; python_version < \"3.8\" in /usr/local/lib/python3.7/dist-packages (from gitpython->streamlit) (3.7.4.3)\n",
            "Collecting gitdb<5,>=4.0.1\n",
            "\u001b[?25l  Downloading https://files.pythonhosted.org/packages/ea/e8/f414d1a4f0bbc668ed441f74f44c116d9816833a48bf81d22b697090dba8/gitdb-4.0.7-py3-none-any.whl (63kB)\n",
            "\u001b[K     |████████████████████████████████| 71kB 12.3MB/s \n",
            "\u001b[?25hRequirement already satisfied: pyparsing>=2.0.2 in /usr/local/lib/python3.7/dist-packages (from packaging->streamlit) (2.4.7)\n",
            "Requirement already satisfied: entrypoints in /usr/local/lib/python3.7/dist-packages (from altair>=3.2.0->streamlit) (0.3)\n",
            "Requirement already satisfied: jsonschema in /usr/local/lib/python3.7/dist-packages (from altair>=3.2.0->streamlit) (2.6.0)\n",
            "Requirement already satisfied: jinja2 in /usr/local/lib/python3.7/dist-packages (from altair>=3.2.0->streamlit) (2.11.3)\n",
            "Requirement already satisfied: toolz in /usr/local/lib/python3.7/dist-packages (from altair>=3.2.0->streamlit) (0.11.1)\n",
            "Requirement already satisfied: ipywidgets>=7.0.0 in /usr/local/lib/python3.7/dist-packages (from pydeck>=0.1.dev5->streamlit) (7.6.3)\n",
            "Collecting ipykernel>=5.1.2; python_version >= \"3.4\"\n",
            "\u001b[?25l  Downloading https://files.pythonhosted.org/packages/90/6d/6c8fe4b658f77947d4244ce81f60230c4c8d1dc1a21ae83e63b269339178/ipykernel-5.5.5-py3-none-any.whl (120kB)\n",
            "\u001b[K     |████████████████████████████████| 122kB 62.1MB/s \n",
            "\u001b[?25hRequirement already satisfied: traitlets>=4.3.2 in /usr/local/lib/python3.7/dist-packages (from pydeck>=0.1.dev5->streamlit) (5.0.5)\n",
            "Requirement already satisfied: chardet<4,>=3.0.2 in /usr/local/lib/python3.7/dist-packages (from requests->streamlit) (3.0.4)\n",
            "Requirement already satisfied: idna<3,>=2.5 in /usr/local/lib/python3.7/dist-packages (from requests->streamlit) (2.10)\n",
            "Requirement already satisfied: urllib3!=1.25.0,!=1.25.1,<1.26,>=1.21.1 in /usr/local/lib/python3.7/dist-packages (from requests->streamlit) (1.24.3)\n",
            "Requirement already satisfied: certifi>=2017.4.17 in /usr/local/lib/python3.7/dist-packages (from requests->streamlit) (2020.12.5)\n",
            "Collecting smmap<5,>=3.0.1\n",
            "  Downloading https://files.pythonhosted.org/packages/68/ee/d540eb5e5996eb81c26ceffac6ee49041d473bc5125f2aa995cf51ec1cf1/smmap-4.0.0-py2.py3-none-any.whl\n",
            "Requirement already satisfied: MarkupSafe>=0.23 in /usr/local/lib/python3.7/dist-packages (from jinja2->altair>=3.2.0->streamlit) (2.0.0)\n",
            "Requirement already satisfied: jupyterlab-widgets>=1.0.0; python_version >= \"3.6\" in /usr/local/lib/python3.7/dist-packages (from ipywidgets>=7.0.0->pydeck>=0.1.dev5->streamlit) (1.0.0)\n",
            "Requirement already satisfied: widgetsnbextension~=3.5.0 in /usr/local/lib/python3.7/dist-packages (from ipywidgets>=7.0.0->pydeck>=0.1.dev5->streamlit) (3.5.1)\n",
            "Requirement already satisfied: ipython>=4.0.0; python_version >= \"3.3\" in /usr/local/lib/python3.7/dist-packages (from ipywidgets>=7.0.0->pydeck>=0.1.dev5->streamlit) (5.5.0)\n",
            "Requirement already satisfied: nbformat>=4.2.0 in /usr/local/lib/python3.7/dist-packages (from ipywidgets>=7.0.0->pydeck>=0.1.dev5->streamlit) (5.1.3)\n",
            "Requirement already satisfied: jupyter-client in /usr/local/lib/python3.7/dist-packages (from ipykernel>=5.1.2; python_version >= \"3.4\"->pydeck>=0.1.dev5->streamlit) (5.3.5)\n",
            "Requirement already satisfied: ipython-genutils in /usr/local/lib/python3.7/dist-packages (from traitlets>=4.3.2->pydeck>=0.1.dev5->streamlit) (0.2.0)\n",
            "Requirement already satisfied: notebook>=4.4.1 in /usr/local/lib/python3.7/dist-packages (from widgetsnbextension~=3.5.0->ipywidgets>=7.0.0->pydeck>=0.1.dev5->streamlit) (5.3.1)\n",
            "Requirement already satisfied: pygments in /usr/local/lib/python3.7/dist-packages (from ipython>=4.0.0; python_version >= \"3.3\"->ipywidgets>=7.0.0->pydeck>=0.1.dev5->streamlit) (2.6.1)\n",
            "Requirement already satisfied: pexpect; sys_platform != \"win32\" in /usr/local/lib/python3.7/dist-packages (from ipython>=4.0.0; python_version >= \"3.3\"->ipywidgets>=7.0.0->pydeck>=0.1.dev5->streamlit) (4.8.0)\n",
            "Requirement already satisfied: simplegeneric>0.8 in /usr/local/lib/python3.7/dist-packages (from ipython>=4.0.0; python_version >= \"3.3\"->ipywidgets>=7.0.0->pydeck>=0.1.dev5->streamlit) (0.8.1)\n",
            "Requirement already satisfied: pickleshare in /usr/local/lib/python3.7/dist-packages (from ipython>=4.0.0; python_version >= \"3.3\"->ipywidgets>=7.0.0->pydeck>=0.1.dev5->streamlit) (0.7.5)\n",
            "Requirement already satisfied: prompt-toolkit<2.0.0,>=1.0.4 in /usr/local/lib/python3.7/dist-packages (from ipython>=4.0.0; python_version >= \"3.3\"->ipywidgets>=7.0.0->pydeck>=0.1.dev5->streamlit) (1.0.18)\n",
            "Requirement already satisfied: jupyter-core in /usr/local/lib/python3.7/dist-packages (from nbformat>=4.2.0->ipywidgets>=7.0.0->pydeck>=0.1.dev5->streamlit) (4.7.1)\n",
            "Requirement already satisfied: pyzmq>=13 in /usr/local/lib/python3.7/dist-packages (from jupyter-client->ipykernel>=5.1.2; python_version >= \"3.4\"->pydeck>=0.1.dev5->streamlit) (22.0.3)\n",
            "Requirement already satisfied: nbconvert in /usr/local/lib/python3.7/dist-packages (from notebook>=4.4.1->widgetsnbextension~=3.5.0->ipywidgets>=7.0.0->pydeck>=0.1.dev5->streamlit) (5.6.1)\n",
            "Requirement already satisfied: terminado>=0.8.1 in /usr/local/lib/python3.7/dist-packages (from notebook>=4.4.1->widgetsnbextension~=3.5.0->ipywidgets>=7.0.0->pydeck>=0.1.dev5->streamlit) (0.9.5)\n",
            "Requirement already satisfied: Send2Trash in /usr/local/lib/python3.7/dist-packages (from notebook>=4.4.1->widgetsnbextension~=3.5.0->ipywidgets>=7.0.0->pydeck>=0.1.dev5->streamlit) (1.5.0)\n",
            "Requirement already satisfied: ptyprocess>=0.5 in /usr/local/lib/python3.7/dist-packages (from pexpect; sys_platform != \"win32\"->ipython>=4.0.0; python_version >= \"3.3\"->ipywidgets>=7.0.0->pydeck>=0.1.dev5->streamlit) (0.7.0)\n",
            "Requirement already satisfied: wcwidth in /usr/local/lib/python3.7/dist-packages (from prompt-toolkit<2.0.0,>=1.0.4->ipython>=4.0.0; python_version >= \"3.3\"->ipywidgets>=7.0.0->pydeck>=0.1.dev5->streamlit) (0.2.5)\n",
            "Requirement already satisfied: defusedxml in /usr/local/lib/python3.7/dist-packages (from nbconvert->notebook>=4.4.1->widgetsnbextension~=3.5.0->ipywidgets>=7.0.0->pydeck>=0.1.dev5->streamlit) (0.7.1)\n",
            "Requirement already satisfied: mistune<2,>=0.8.1 in /usr/local/lib/python3.7/dist-packages (from nbconvert->notebook>=4.4.1->widgetsnbextension~=3.5.0->ipywidgets>=7.0.0->pydeck>=0.1.dev5->streamlit) (0.8.4)\n",
            "Requirement already satisfied: pandocfilters>=1.4.1 in /usr/local/lib/python3.7/dist-packages (from nbconvert->notebook>=4.4.1->widgetsnbextension~=3.5.0->ipywidgets>=7.0.0->pydeck>=0.1.dev5->streamlit) (1.4.3)\n",
            "Requirement already satisfied: bleach in /usr/local/lib/python3.7/dist-packages (from nbconvert->notebook>=4.4.1->widgetsnbextension~=3.5.0->ipywidgets>=7.0.0->pydeck>=0.1.dev5->streamlit) (3.3.0)\n",
            "Requirement already satisfied: testpath in /usr/local/lib/python3.7/dist-packages (from nbconvert->notebook>=4.4.1->widgetsnbextension~=3.5.0->ipywidgets>=7.0.0->pydeck>=0.1.dev5->streamlit) (0.4.4)\n",
            "Requirement already satisfied: webencodings in /usr/local/lib/python3.7/dist-packages (from bleach->nbconvert->notebook>=4.4.1->widgetsnbextension~=3.5.0->ipywidgets>=7.0.0->pydeck>=0.1.dev5->streamlit) (0.5.1)\n",
            "Building wheels for collected packages: blinker\n",
            "  Building wheel for blinker (setup.py) ... \u001b[?25l\u001b[?25hdone\n",
            "  Created wheel for blinker: filename=blinker-1.4-cp37-none-any.whl size=13448 sha256=700aa93be3e90c7090ff9d096cb80023f255db1c4ecee194a4c150af7d068509\n",
            "  Stored in directory: /root/.cache/pip/wheels/92/a0/00/8690a57883956a301d91cf4ec999cc0b258b01e3f548f86e89\n",
            "Successfully built blinker\n",
            "\u001b[31mERROR: google-colab 1.0.0 has requirement ipykernel~=4.10, but you'll have ipykernel 5.5.5 which is incompatible.\u001b[0m\n",
            "Installing collected packages: validators, watchdog, blinker, smmap, gitdb, gitpython, click, ipykernel, pydeck, base58, streamlit\n",
            "  Found existing installation: click 8.0.0\n",
            "    Uninstalling click-8.0.0:\n",
            "      Successfully uninstalled click-8.0.0\n",
            "  Found existing installation: ipykernel 4.10.1\n",
            "    Uninstalling ipykernel-4.10.1:\n",
            "      Successfully uninstalled ipykernel-4.10.1\n",
            "Successfully installed base58-2.1.0 blinker-1.4 click-7.1.2 gitdb-4.0.7 gitpython-3.1.17 ipykernel-5.5.5 pydeck-0.6.2 smmap-4.0.0 streamlit-0.82.0 validators-0.18.2 watchdog-2.1.2\n"
          ],
          "name": "stdout"
        },
        {
          "output_type": "display_data",
          "data": {
            "application/vnd.colab-display-data+json": {
              "pip_warning": {
                "packages": [
                  "ipykernel"
                ]
              }
            }
          },
          "metadata": {
            "tags": []
          }
        },
        {
          "output_type": "stream",
          "text": [
            "Collecting pyngrok\n",
            "\u001b[?25l  Downloading https://files.pythonhosted.org/packages/6b/4e/a2fe095bbe17cf26424c4abcd22a0490e22d01cc628f25af5e220ddbf6f0/pyngrok-5.0.5.tar.gz (745kB)\n",
            "\r\u001b[K     |▍                               | 10kB 21.6MB/s eta 0:00:01\r\u001b[K     |▉                               | 20kB 16.6MB/s eta 0:00:01\r\u001b[K     |█▎                              | 30kB 14.0MB/s eta 0:00:01\r\u001b[K     |█▊                              | 40kB 11.6MB/s eta 0:00:01\r\u001b[K     |██▏                             | 51kB 7.5MB/s eta 0:00:01\r\u001b[K     |██▋                             | 61kB 6.4MB/s eta 0:00:01\r\u001b[K     |███                             | 71kB 7.2MB/s eta 0:00:01\r\u001b[K     |███▌                            | 81kB 8.0MB/s eta 0:00:01\r\u001b[K     |████                            | 92kB 8.8MB/s eta 0:00:01\r\u001b[K     |████▍                           | 102kB 7.5MB/s eta 0:00:01\r\u001b[K     |████▉                           | 112kB 7.5MB/s eta 0:00:01\r\u001b[K     |█████▎                          | 122kB 7.5MB/s eta 0:00:01\r\u001b[K     |█████▊                          | 133kB 7.5MB/s eta 0:00:01\r\u001b[K     |██████▏                         | 143kB 7.5MB/s eta 0:00:01\r\u001b[K     |██████▋                         | 153kB 7.5MB/s eta 0:00:01\r\u001b[K     |███████                         | 163kB 7.5MB/s eta 0:00:01\r\u001b[K     |███████▌                        | 174kB 7.5MB/s eta 0:00:01\r\u001b[K     |████████                        | 184kB 7.5MB/s eta 0:00:01\r\u001b[K     |████████▍                       | 194kB 7.5MB/s eta 0:00:01\r\u001b[K     |████████▉                       | 204kB 7.5MB/s eta 0:00:01\r\u001b[K     |█████████▎                      | 215kB 7.5MB/s eta 0:00:01\r\u001b[K     |█████████▊                      | 225kB 7.5MB/s eta 0:00:01\r\u001b[K     |██████████▏                     | 235kB 7.5MB/s eta 0:00:01\r\u001b[K     |██████████▌                     | 245kB 7.5MB/s eta 0:00:01\r\u001b[K     |███████████                     | 256kB 7.5MB/s eta 0:00:01\r\u001b[K     |███████████▍                    | 266kB 7.5MB/s eta 0:00:01\r\u001b[K     |███████████▉                    | 276kB 7.5MB/s eta 0:00:01\r\u001b[K     |████████████▎                   | 286kB 7.5MB/s eta 0:00:01\r\u001b[K     |████████████▊                   | 296kB 7.5MB/s eta 0:00:01\r\u001b[K     |█████████████▏                  | 307kB 7.5MB/s eta 0:00:01\r\u001b[K     |█████████████▋                  | 317kB 7.5MB/s eta 0:00:01\r\u001b[K     |██████████████                  | 327kB 7.5MB/s eta 0:00:01\r\u001b[K     |██████████████▌                 | 337kB 7.5MB/s eta 0:00:01\r\u001b[K     |███████████████                 | 348kB 7.5MB/s eta 0:00:01\r\u001b[K     |███████████████▍                | 358kB 7.5MB/s eta 0:00:01\r\u001b[K     |███████████████▉                | 368kB 7.5MB/s eta 0:00:01\r\u001b[K     |████████████████▎               | 378kB 7.5MB/s eta 0:00:01\r\u001b[K     |████████████████▊               | 389kB 7.5MB/s eta 0:00:01\r\u001b[K     |█████████████████▏              | 399kB 7.5MB/s eta 0:00:01\r\u001b[K     |█████████████████▋              | 409kB 7.5MB/s eta 0:00:01\r\u001b[K     |██████████████████              | 419kB 7.5MB/s eta 0:00:01\r\u001b[K     |██████████████████▌             | 430kB 7.5MB/s eta 0:00:01\r\u001b[K     |███████████████████             | 440kB 7.5MB/s eta 0:00:01\r\u001b[K     |███████████████████▍            | 450kB 7.5MB/s eta 0:00:01\r\u001b[K     |███████████████████▉            | 460kB 7.5MB/s eta 0:00:01\r\u001b[K     |████████████████████▎           | 471kB 7.5MB/s eta 0:00:01\r\u001b[K     |████████████████████▊           | 481kB 7.5MB/s eta 0:00:01\r\u001b[K     |█████████████████████           | 491kB 7.5MB/s eta 0:00:01\r\u001b[K     |█████████████████████▌          | 501kB 7.5MB/s eta 0:00:01\r\u001b[K     |██████████████████████          | 512kB 7.5MB/s eta 0:00:01\r\u001b[K     |██████████████████████▍         | 522kB 7.5MB/s eta 0:00:01\r\u001b[K     |██████████████████████▉         | 532kB 7.5MB/s eta 0:00:01\r\u001b[K     |███████████████████████▎        | 542kB 7.5MB/s eta 0:00:01\r\u001b[K     |███████████████████████▊        | 552kB 7.5MB/s eta 0:00:01\r\u001b[K     |████████████████████████▏       | 563kB 7.5MB/s eta 0:00:01\r\u001b[K     |████████████████████████▋       | 573kB 7.5MB/s eta 0:00:01\r\u001b[K     |█████████████████████████       | 583kB 7.5MB/s eta 0:00:01\r\u001b[K     |█████████████████████████▌      | 593kB 7.5MB/s eta 0:00:01\r\u001b[K     |██████████████████████████      | 604kB 7.5MB/s eta 0:00:01\r\u001b[K     |██████████████████████████▍     | 614kB 7.5MB/s eta 0:00:01\r\u001b[K     |██████████████████████████▉     | 624kB 7.5MB/s eta 0:00:01\r\u001b[K     |███████████████████████████▎    | 634kB 7.5MB/s eta 0:00:01\r\u001b[K     |███████████████████████████▊    | 645kB 7.5MB/s eta 0:00:01\r\u001b[K     |████████████████████████████▏   | 655kB 7.5MB/s eta 0:00:01\r\u001b[K     |████████████████████████████▋   | 665kB 7.5MB/s eta 0:00:01\r\u001b[K     |█████████████████████████████   | 675kB 7.5MB/s eta 0:00:01\r\u001b[K     |█████████████████████████████▌  | 686kB 7.5MB/s eta 0:00:01\r\u001b[K     |██████████████████████████████  | 696kB 7.5MB/s eta 0:00:01\r\u001b[K     |██████████████████████████████▍ | 706kB 7.5MB/s eta 0:00:01\r\u001b[K     |██████████████████████████████▉ | 716kB 7.5MB/s eta 0:00:01\r\u001b[K     |███████████████████████████████▏| 727kB 7.5MB/s eta 0:00:01\r\u001b[K     |███████████████████████████████▋| 737kB 7.5MB/s eta 0:00:01\r\u001b[K     |████████████████████████████████| 747kB 7.5MB/s \n",
            "\u001b[?25hRequirement already satisfied: PyYAML in /usr/local/lib/python3.7/dist-packages (from pyngrok) (3.13)\n",
            "Building wheels for collected packages: pyngrok\n",
            "  Building wheel for pyngrok (setup.py) ... \u001b[?25l\u001b[?25hdone\n",
            "  Created wheel for pyngrok: filename=pyngrok-5.0.5-cp37-none-any.whl size=19246 sha256=a27f72bcfe86107c6cb394cd6236ac9f676b0f5be608ed4ec595fd2d2c2ff4bd\n",
            "  Stored in directory: /root/.cache/pip/wheels/0c/13/64/5ebbcc22eaf53fdf5766b397c1fb17c83f5775fdccf0ea1b88\n",
            "Successfully built pyngrok\n",
            "Installing collected packages: pyngrok\n",
            "Successfully installed pyngrok-5.0.5\n",
            "time: 16.7 s (started: 2021-05-20 09:08:22 +00:00)\n"
          ],
          "name": "stdout"
        }
      ]
    },
    {
      "cell_type": "code",
      "metadata": {
        "colab": {
          "base_uri": "https://localhost:8080/"
        },
        "id": "D0GyyYQlCgr2",
        "outputId": "39118431-6ae8-42ca-ec86-cfd1c947b128"
      },
      "source": [
        "%%writefile app.py\n",
        "import streamlit as st\n",
        "st.tittle('Image Classifier')"
      ],
      "execution_count": null,
      "outputs": [
        {
          "output_type": "stream",
          "text": [
            "Writing app.py\n",
            "time: 1.82 ms (started: 2021-05-20 09:13:04 +00:00)\n"
          ],
          "name": "stdout"
        }
      ]
    },
    {
      "cell_type": "code",
      "metadata": {
        "colab": {
          "base_uri": "https://localhost:8080/"
        },
        "id": "__FQiL47DOh1",
        "outputId": "3dad863b-744f-4a6d-fbab-d3bd953d6121"
      },
      "source": [
        "!nohup streamlit run app.py &\n",
        "\n",
        "url = ngrok.connect(port='8501')\n",
        "url"
      ],
      "execution_count": null,
      "outputs": [
        {
          "output_type": "stream",
          "text": [
            "nohup: appending output to 'nohup.out'\n"
          ],
          "name": "stdout"
        },
        {
          "output_type": "execute_result",
          "data": {
            "text/plain": [
              "<NgrokTunnel: \"http://f02532cb2d15.ngrok.io\" -> \"http://localhost:80\">"
            ]
          },
          "metadata": {
            "tags": []
          },
          "execution_count": 49
        },
        {
          "output_type": "stream",
          "text": [
            "time: 2.02 s (started: 2021-05-20 09:14:42 +00:00)\n"
          ],
          "name": "stdout"
        }
      ]
    }
  ]
}